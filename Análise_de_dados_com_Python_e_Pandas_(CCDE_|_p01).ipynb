{
  "nbformat": 4,
  "nbformat_minor": 0,
  "metadata": {
    "colab": {
      "name": "Análise de dados com Python e Pandas (CCDE | p01).ipynb",
      "provenance": [],
      "collapsed_sections": [],
      "authorship_tag": "ABX9TyNpmZlO/wv1CUDKFBM+DNGX",
      "include_colab_link": true
    },
    "kernelspec": {
      "name": "python3",
      "display_name": "Python 3"
    },
    "language_info": {
      "name": "python"
    }
  },
  "cells": [
    {
      "cell_type": "markdown",
      "metadata": {
        "id": "view-in-github",
        "colab_type": "text"
      },
      "source": [
        "<a href=\"https://colab.research.google.com/github/helioRocha/dio-ccde-p01/blob/master/An%C3%A1lise_de_dados_com_Python_e_Pandas_(CCDE_%7C_p01).ipynb\" target=\"_parent\"><img src=\"https://colab.research.google.com/assets/colab-badge.svg\" alt=\"Open In Colab\"/></a>"
      ]
    },
    {
      "cell_type": "code",
      "metadata": {
        "id": "KUD95ne1ijPf"
      },
      "source": [
        "import pandas as pd\n",
        "import numpy as np\n",
        "import matplotlib.pyplot as plt\n",
        "import seaborn as sns\n",
        "\n",
        "#import plotly.express as px\n",
        "#import plotly.offline as py\n",
        "#import plotly.graph_objs as go\n",
        "\n",
        "%matplotlib inline\n",
        "\n",
        "# plt.style.use('bmh')\n",
        "\n",
        "# from google.colab import files\n",
        "# arq = files.upload()\n",
        "\n",
        "#!pip install bubbly\n",
        "#!pip install chart-studio \n",
        "#!pip install --upgrade plotly"
      ],
      "execution_count": 1,
      "outputs": []
    },
    {
      "cell_type": "markdown",
      "metadata": {
        "id": "j60-xlaO-X1J"
      },
      "source": [
        "## (Re)uso\n",
        "\n",
        "Funções consumidas no estudo dos dataframes"
      ]
    },
    {
      "cell_type": "code",
      "metadata": {
        "id": "hbvHTwtF-duU"
      },
      "source": [
        "def check(df):\n",
        "    res = list(df.isna().sum().items())\n",
        "    n = [res[i][0] for i in range(len(res)) if res[i][1]>0]\n",
        "\n",
        "    if len(n)==0: print(f'>> Nao ha colunas com valores null/NaN.\\n')\n",
        "    elif len(n)==1: print(f\">> Ha {len(n)} coluna com valores null/NaN: {' '.join(n)}\\n\")\n",
        "    else: print(f\">> Ha {len(n)} colunas com valores null/NaN: {', '.join(n)}\\n\")\n",
        "\n",
        "\n",
        "def commonEDA(df):\n",
        "    print('>> Estas sao as primeiras 5 linhas do df sob investigação:\\n')\n",
        "    print(df.head(),'\\n')\n",
        "    print('>> E a seguir temos as suas ultimas linhas:\\n')\n",
        "    print(df.tail(),'\\n')\n",
        "    print(f'>> Na sequencia, sao apresentadas informacoes sobre o df - que \\ntem {df.shape[0]} linha(s) e {df.shape[1]} coluna(s) -, incluindo o tipo de indice \\ne os tipos de coluna, valores nao nulos e uso de memoria:\\n')\n",
        "    print(df.info(),'\\n')    \n",
        "    check(df)    \n",
        "    print('>> Enfim, e apresentado o sumario estatistico para features numericas\\n do df:\\n')\n",
        "    print(df.describe(),'\\n')\n",
        "\n"
      ],
      "execution_count": 2,
      "outputs": []
    },
    {
      "cell_type": "code",
      "metadata": {
        "id": "O2FLekV06qHQ"
      },
      "source": [
        "class color:\n",
        "   PURPLE = '\\033[95m'\n",
        "   CYAN = '\\033[96m'\n",
        "   DARKCYAN = '\\033[36m'\n",
        "   BLUE = '\\033[94m'\n",
        "   GREEN = '\\033[92m'\n",
        "   YELLOW = '\\033[93m'\n",
        "   RED = '\\033[91m'   \n",
        "   UNDERLINE = '\\033[4m'\n",
        "   BOLD = '\\033[1m'\n",
        "   END = '\\033[0m'\n",
        "\n",
        "def bold(words): print(color.BOLD + words + color.END)"
      ],
      "execution_count": 3,
      "outputs": []
    },
    {
      "cell_type": "markdown",
      "metadata": {
        "id": "5_7g7UDZ9GCi"
      },
      "source": [
        "# Conteudo\n",
        "\n",
        "- [Parte 1: Gapminder](#Parte-1:-Gapminder)\n",
        "- [Parte 2: Vendas NE](#Parte-2:-Vendas-NE)\n",
        "- [Parte 3: AdventureWorks](#Parte-3:-AdventureWorks)"
      ]
    },
    {
      "cell_type": "markdown",
      "metadata": {
        "id": "VphBChbDh7tl"
      },
      "source": [
        "## *Parte 1: Gapminder*"
      ]
    },
    {
      "cell_type": "code",
      "metadata": {
        "id": "0uidjT27_Bb2",
        "colab": {
          "base_uri": "https://localhost:8080/"
        },
        "outputId": "e6800cad-0a28-4168-d885-fc7c399c9462"
      },
      "source": [
        "url = 'https://raw.githubusercontent.com/helioRocha/dio-ccde-p01/master/datasets/Gapminder.csv'\n",
        "df1 = pd.read_csv(url, error_bad_lines=False, delimiter=\";\")\n",
        "\n",
        "commonEDA(df1)"
      ],
      "execution_count": 4,
      "outputs": [
        {
          "output_type": "stream",
          "name": "stdout",
          "text": [
            ">> Estas sao as primeiras 5 linhas do df sob investigação:\n",
            "\n",
            "       country continent  year  lifeExp       pop   gdpPercap\n",
            "0  Afghanistan      Asia  1952   28.801   8425333  779.445314\n",
            "1  Afghanistan      Asia  1957   30.332   9240934  820.853030\n",
            "2  Afghanistan      Asia  1962   31.997  10267083  853.100710\n",
            "3  Afghanistan      Asia  1967   34.020  11537966  836.197138\n",
            "4  Afghanistan      Asia  1972   36.088  13079460  739.981106 \n",
            "\n",
            ">> E a seguir temos as suas ultimas linhas:\n",
            "\n",
            "       country continent  year  lifeExp       pop   gdpPercap\n",
            "3307  Zimbabwe    Africa  1987   62.351   9216418  706.157306\n",
            "3308  Zimbabwe    Africa  1992   60.377  10704340  693.420786\n",
            "3309  Zimbabwe    Africa  1997   46.809  11404948  792.449960\n",
            "3310  Zimbabwe    Africa  2002   39.989  11926563  672.038623\n",
            "3311  Zimbabwe    Africa  2007   43.487  12311143  469.709298 \n",
            "\n",
            ">> Na sequencia, sao apresentadas informacoes sobre o df - que \n",
            "tem 3312 linha(s) e 6 coluna(s) -, incluindo o tipo de indice \n",
            "e os tipos de coluna, valores nao nulos e uso de memoria:\n",
            "\n",
            "<class 'pandas.core.frame.DataFrame'>\n",
            "RangeIndex: 3312 entries, 0 to 3311\n",
            "Data columns (total 6 columns):\n",
            " #   Column     Non-Null Count  Dtype  \n",
            "---  ------     --------------  -----  \n",
            " 0   country    3312 non-null   object \n",
            " 1   continent  3011 non-null   object \n",
            " 2   year       3312 non-null   int64  \n",
            " 3   lifeExp    3312 non-null   float64\n",
            " 4   pop        3312 non-null   int64  \n",
            " 5   gdpPercap  3312 non-null   float64\n",
            "dtypes: float64(2), int64(2), object(2)\n",
            "memory usage: 155.4+ KB\n",
            "None \n",
            "\n",
            ">> Ha 1 coluna com valores null/NaN: continent\n",
            "\n",
            ">> Enfim, e apresentado o sumario estatistico para features numericas\n",
            " do df:\n",
            "\n",
            "              year      lifeExp           pop      gdpPercap\n",
            "count  3312.000000  3312.000000  3.312000e+03    3312.000000\n",
            "mean   1980.301630    65.246871  3.161489e+07   11317.115805\n",
            "std      16.927294    11.768412  1.041193e+08   11369.142739\n",
            "min    1950.000000    23.599000  5.941200e+04     241.165877\n",
            "25%    1967.000000    58.337500  2.678572e+06    2514.625266\n",
            "50%    1982.000000    69.610000  7.557218e+06    7838.505123\n",
            "75%    1996.000000    73.657750  1.958522e+07   17357.879170\n",
            "max    2007.000000    82.670000  1.318683e+09  113523.132900 \n",
            "\n"
          ]
        }
      ]
    },
    {
      "cell_type": "code",
      "metadata": {
        "id": "galVlcTXRNk7",
        "colab": {
          "base_uri": "https://localhost:8080/",
          "height": 90
        },
        "outputId": "52e1fd18-baee-4c23-d286-01d63fe84f9a"
      },
      "source": [
        "'''\n",
        "def display_query(a, b, f1='year', f2='pop', color='country'):\n",
        "    \n",
        "    fig = px.bar(df1.query(f\"{a} == '{b}'\"), \n",
        "                 x=f1, \n",
        "                 y=f2, \n",
        "                 hover_data=['lifeExp'],\n",
        "                 labels={'pop':'Populacao', 'year':'Ano', 'lifeExp':'Expectativa de vida', 'country':''}, \n",
        "                 height=550,\n",
        "                 title=f\"Populacao d_ {b}\",\n",
        "                 color=color)\n",
        "    \n",
        "    fig.show()\n",
        "\n",
        "\n",
        "display_query('continent','Americas')\n",
        "\n",
        "display_query('country','United States',color='pop')\n",
        "'''"
      ],
      "execution_count": 5,
      "outputs": [
        {
          "output_type": "execute_result",
          "data": {
            "application/vnd.google.colaboratory.intrinsic+json": {
              "type": "string"
            },
            "text/plain": [
              "'\\ndef display_query(a, b, f1=\\'year\\', f2=\\'pop\\', color=\\'country\\'):\\n    \\n    fig = px.bar(df1.query(f\"{a} == \\'{b}\\'\"), \\n                 x=f1, \\n                 y=f2, \\n                 hover_data=[\\'lifeExp\\'],\\n                 labels={\\'pop\\':\\'Populacao\\', \\'year\\':\\'Ano\\', \\'lifeExp\\':\\'Expectativa de vida\\', \\'country\\':\\'\\'}, \\n                 height=550,\\n                 title=f\"Populacao d_ {b}\",\\n                 color=color)\\n    \\n    fig.show()\\n\\n\\ndisplay_query(\\'continent\\',\\'Americas\\')\\n\\ndisplay_query(\\'country\\',\\'United States\\',color=\\'pop\\')\\n'"
            ]
          },
          "metadata": {},
          "execution_count": 5
        }
      ]
    },
    {
      "cell_type": "code",
      "metadata": {
        "id": "kBZZQ4wA4sxy",
        "colab": {
          "base_uri": "https://localhost:8080/"
        },
        "outputId": "face5bf0-5f32-4fea-f3bd-c58d9e824c71"
      },
      "source": [
        "bold(f\"Continente (numero de paises): Pais\\n\")\n",
        "\n",
        "c = df1['continent'].unique()\n",
        "for p in range(len(c)):\n",
        "    o = df1.loc[df1['continent']==c[p]]\n",
        "    if len(o['country'].unique()) != 0:\n",
        "        print(f\"{c[p]} ({len(o['country'].unique())}): {', '.join(o['country'].unique())}\\n\")"
      ],
      "execution_count": 6,
      "outputs": [
        {
          "output_type": "stream",
          "name": "stdout",
          "text": [
            "\u001b[1mContinente (numero de paises): Pais\n",
            "\u001b[0m\n",
            "Asia (41): Afghanistan, Azerbaijan, Bahrain, Bangladesh, Bhutan, Brunei, Cambodia, China, India, Indonesia, Iran, Iraq, Israel, Japan, Jordan, Korea, Dem. Rep., Korea, Rep., Kuwait, Lebanon, Macao, China, Malaysia, Mongolia, Myanmar, Nepal, Oman, Pakistan, Philippines, Qatar, Saudi Arabia, Singapore, Sri Lanka, Syria, Taiwan, Tajikistan, Thailand, Timor-Leste, Turkmenistan, United Arab Emirates, Vietnam, West Bank and Gaza, Yemen, Rep.\n",
            "\n",
            "Europe (35): Albania, Austria, Belgium, Bosnia and Herzegovina, Bulgaria, Croatia, Cyprus, Czech Republic, Denmark, Estonia, Finland, France, Germany, Greece, Hungary, Iceland, Ireland, Italy, Luxembourg, Malta, Moldova, Montenegro, Netherlands, Norway, Poland, Portugal, Romania, Serbia, Slovak Republic, Slovenia, Spain, Sweden, Switzerland, Turkey, United Kingdom\n",
            "\n",
            "Africa (51): Algeria, Angola, Benin, Botswana, Burkina Faso, Burundi, Cameroon, Cape Verde, Central African Republic, Chad, Comoros, Congo, Dem. Rep., Congo, Rep., Cote d'Ivoire, Djibouti, Egypt, Equatorial Guinea, Eritrea, Ethiopia, Gabon, Gambia, Ghana, Guinea, Guinea-Bissau, Kenya, Lesotho, Liberia, Libya, Madagascar, Malawi, Mali, Mauritania, Mauritius, Morocco, Mozambique, Namibia, Niger, Nigeria, Rwanda, Senegal, Sierra Leone, Somalia, South Africa, Sudan, Swaziland, Tanzania, Togo, Tunisia, Uganda, Zambia, Zimbabwe\n",
            "\n",
            "Americas (25): Argentina, Bolivia, Brazil, Chile, Colombia, Costa Rica, Cuba, Dominican Republic, Ecuador, El Salvador, Guatemala, Guyana, Honduras, Jamaica, Mexico, Nicaragua, Panama, Paraguay, Peru, Puerto Rico, Suriname, Trinidad and Tobago, United States, Uruguay, Venezuela\n",
            "\n",
            "FSU (6): Belarus, Kazakhstan, Latvia, Lithuania, Russia, Ukraine\n",
            "\n",
            "Oceania (3): Fiji, New Zealand, Solomon Islands\n",
            "\n"
          ]
        }
      ]
    },
    {
      "cell_type": "code",
      "metadata": {
        "id": "X7FtfQYI5gva",
        "colab": {
          "base_uri": "https://localhost:8080/",
          "height": 357
        },
        "outputId": "962ac71c-fe7e-4ab5-c711-00c518a5fe43"
      },
      "source": [
        "df1.groupby('continent')['gdpPercap'].mean().plot(kind='pie', autopct='%.2f', fontsize=14, figsize=(6, 6));"
      ],
      "execution_count": 7,
      "outputs": [
        {
          "output_type": "display_data",
          "data": {
            "image/png": "[encoded data removed]",
            "text/plain": [
              "<Figure size 432x432 with 1 Axes>"
            ]
          },
          "metadata": {}
        }
      ]
    },
    {
      "cell_type": "markdown",
      "metadata": {
        "id": "mA3ZDfxHiE84"
      },
      "source": [
        "## Parte 2: Vendas NE"
      ]
    },
    {
      "cell_type": "code",
      "metadata": {
        "id": "p2DFEW5K5paZ"
      },
      "source": [
        "url_ara = 'https://github.com/helioRocha/dio-ccde-p01/blob/master/datasets/Aracaju.xlsx?raw=True'\n",
        "url_for = 'https://github.com/helioRocha/dio-ccde-p01/blob/master/datasets/Fortaleza.xlsx?raw=True'\n",
        "url_nat = 'https://github.com/helioRocha/dio-ccde-p01/blob/master/datasets/Natal.xlsx?raw=True'\n",
        "url_rec = 'https://github.com/helioRocha/dio-ccde-p01/blob/master/datasets/Recife.xlsx?raw=True'\n",
        "url_sal = 'https://github.com/helioRocha/dio-ccde-p01/blob/master/datasets/Salvador.xlsx?raw=True'\n",
        "\n",
        "araca = pd.read_excel(url_ara)\n",
        "forta = pd.read_excel(url_for)\n",
        "natal = pd.read_excel(url_nat)\n",
        "recif = pd.read_excel(url_rec)\n",
        "salva = pd.read_excel(url_sal)"
      ],
      "execution_count": 8,
      "outputs": []
    },
    {
      "cell_type": "code",
      "metadata": {
        "id": "TmqE1gnWOYaL",
        "colab": {
          "base_uri": "https://localhost:8080/"
        },
        "outputId": "b957c6e9-f090-4a9d-9a9a-875ea7511590"
      },
      "source": [
        "df2 = pd.concat([araca,forta,natal,recif,salva])\n",
        "\n",
        "commonEDA(df2)"
      ],
      "execution_count": 9,
      "outputs": [
        {
          "output_type": "stream",
          "name": "stdout",
          "text": [
            ">> Estas sao as primeiras 5 linhas do df sob investigação:\n",
            "\n",
            "    Cidade       Data  Vendas  LojaID  Qtde\n",
            "0  Aracaju 2018-01-01  142.00    1520     1\n",
            "1  Aracaju 2018-01-01   14.21    1522     6\n",
            "2  Aracaju 2018-01-01   71.55    1520     1\n",
            "3  Aracaju 2018-01-01    3.01    1521     7\n",
            "4  Aracaju 2018-01-01   24.51    1522     8 \n",
            "\n",
            ">> E a seguir temos as suas ultimas linhas:\n",
            "\n",
            "       Cidade       Data  Vendas  LojaID  Qtde\n",
            "235  Salvador 2019-01-03   41.84    1034     1\n",
            "236  Salvador 2019-01-03  126.29    1035     3\n",
            "237  Salvador 2019-01-03   38.06    1036     3\n",
            "238  Salvador 2019-01-03  139.64    1035     1\n",
            "239  Salvador 2019-01-03  161.41    1037     3 \n",
            "\n",
            ">> Na sequencia, sao apresentadas informacoes sobre o df - que \n",
            "tem 894 linha(s) e 5 coluna(s) -, incluindo o tipo de indice \n",
            "e os tipos de coluna, valores nao nulos e uso de memoria:\n",
            "\n",
            "<class 'pandas.core.frame.DataFrame'>\n",
            "Int64Index: 894 entries, 0 to 239\n",
            "Data columns (total 5 columns):\n",
            " #   Column  Non-Null Count  Dtype         \n",
            "---  ------  --------------  -----         \n",
            " 0   Cidade  894 non-null    object        \n",
            " 1   Data    894 non-null    datetime64[ns]\n",
            " 2   Vendas  894 non-null    float64       \n",
            " 3   LojaID  894 non-null    int64         \n",
            " 4   Qtde    894 non-null    int64         \n",
            "dtypes: datetime64[ns](1), float64(1), int64(2), object(1)\n",
            "memory usage: 41.9+ KB\n",
            "None \n",
            "\n",
            ">> Nao ha colunas com valores null/NaN.\n",
            "\n",
            ">> Enfim, e apresentado o sumario estatistico para features numericas\n",
            " do df:\n",
            "\n",
            "           Vendas       LojaID        Qtde\n",
            "count  894.000000   894.000000  894.000000\n",
            "mean   122.611801  1074.844519    3.261745\n",
            "std    166.818723   191.360735    2.096964\n",
            "min      3.010000   852.000000    1.000000\n",
            "25%     22.380000   983.000000    2.000000\n",
            "50%     44.000000  1035.000000    3.000000\n",
            "75%    160.925000  1037.000000    4.000000\n",
            "max    886.000000  1523.000000   10.000000 \n",
            "\n"
          ]
        }
      ]
    },
    {
      "cell_type": "code",
      "metadata": {
        "id": "KNV1703PAi3O"
      },
      "source": [
        "df2['LojaID'] = df2['LojaID'].astype('object')"
      ],
      "execution_count": 10,
      "outputs": []
    },
    {
      "cell_type": "markdown",
      "metadata": {
        "id": "GZcWPngVADUR"
      },
      "source": [
        "#### Tratando valores "
      ]
    },
    {
      "cell_type": "code",
      "metadata": {
        "id": "gUXMuK_7BDfp"
      },
      "source": [
        "df2['Vendas'].fillna(df2['Vendas'].mean(), inplace=True)"
      ],
      "execution_count": 11,
      "outputs": []
    },
    {
      "cell_type": "code",
      "metadata": {
        "id": "HQAm0Lt9BTZu"
      },
      "source": [
        "df2['Vendas'].fillna(0, inplace=True)"
      ],
      "execution_count": 12,
      "outputs": []
    },
    {
      "cell_type": "code",
      "metadata": {
        "id": "LoqTR3R3Blhu"
      },
      "source": [
        "df2.dropna(inplace=True)"
      ],
      "execution_count": 13,
      "outputs": []
    },
    {
      "cell_type": "code",
      "metadata": {
        "id": "Hif6oY4dBpEK"
      },
      "source": [
        "df2.dropna(subset=['Vendas'], inplace=True)"
      ],
      "execution_count": 14,
      "outputs": []
    },
    {
      "cell_type": "code",
      "metadata": {
        "id": "EkMATQXXB_5X"
      },
      "source": [
        "df2.dropna(how='all', inplace=True)"
      ],
      "execution_count": 15,
      "outputs": []
    },
    {
      "cell_type": "markdown",
      "metadata": {
        "id": "gvKypKQDAd0c"
      },
      "source": [
        "#### Desnormalizações"
      ]
    },
    {
      "cell_type": "code",
      "metadata": {
        "id": "rpPDiQKtCQnv"
      },
      "source": [
        "df2['Receita'] = df2['Vendas'].mul(df2['Qtde'])"
      ],
      "execution_count": 16,
      "outputs": []
    },
    {
      "cell_type": "code",
      "metadata": {
        "colab": {
          "base_uri": "https://localhost:8080/"
        },
        "id": "zkJMJEsiCnS3",
        "outputId": "8e21c692-7a25-4f85-ed4a-6d5b8b148d3e"
      },
      "source": [
        "df2['Receita'].max()"
      ],
      "execution_count": 17,
      "outputs": [
        {
          "output_type": "execute_result",
          "data": {
            "text/plain": [
              "3544.0"
            ]
          },
          "metadata": {},
          "execution_count": 17
        }
      ]
    },
    {
      "cell_type": "code",
      "metadata": {
        "id": "R7iXt5GCCtXf"
      },
      "source": [
        "df2['Receita/Vendas'] = df2['Receita'] / df2['Vendas']"
      ],
      "execution_count": 18,
      "outputs": []
    },
    {
      "cell_type": "markdown",
      "metadata": {
        "id": "LNLgv4BzAumu"
      },
      "source": [
        "#### Filtragens/reorganizações"
      ]
    },
    {
      "cell_type": "code",
      "metadata": {
        "colab": {
          "base_uri": "https://localhost:8080/",
          "height": 144
        },
        "id": "yciDcHhiDIYP",
        "outputId": "a963358e-dc2e-425c-a3ec-7a823fb32801"
      },
      "source": [
        "df2.nlargest(3,'Receita')"
      ],
      "execution_count": 19,
      "outputs": [
        {
          "output_type": "execute_result",
          "data": {
            "text/html": [
              "<div>\n",
              "<style scoped>\n",
              "    .dataframe tbody tr th:only-of-type {\n",
              "        vertical-align: middle;\n",
              "    }\n",
              "\n",
              "    .dataframe tbody tr th {\n",
              "        vertical-align: top;\n",
              "    }\n",
              "\n",
              "    .dataframe thead th {\n",
              "        text-align: right;\n",
              "    }\n",
              "</style>\n",
              "<table border=\"1\" class=\"dataframe\">\n",
              "  <thead>\n",
              "    <tr style=\"text-align: right;\">\n",
              "      <th></th>\n",
              "      <th>Cidade</th>\n",
              "      <th>Data</th>\n",
              "      <th>Vendas</th>\n",
              "      <th>LojaID</th>\n",
              "      <th>Qtde</th>\n",
              "      <th>Receita</th>\n",
              "      <th>Receita/Vendas</th>\n",
              "    </tr>\n",
              "  </thead>\n",
              "  <tbody>\n",
              "    <tr>\n",
              "      <th>7</th>\n",
              "      <td>Natal</td>\n",
              "      <td>2019-03-18</td>\n",
              "      <td>886.0</td>\n",
              "      <td>853</td>\n",
              "      <td>4</td>\n",
              "      <td>3544.0</td>\n",
              "      <td>4.0</td>\n",
              "    </tr>\n",
              "    <tr>\n",
              "      <th>51</th>\n",
              "      <td>Natal</td>\n",
              "      <td>2018-01-21</td>\n",
              "      <td>859.0</td>\n",
              "      <td>852</td>\n",
              "      <td>4</td>\n",
              "      <td>3436.0</td>\n",
              "      <td>4.0</td>\n",
              "    </tr>\n",
              "    <tr>\n",
              "      <th>55</th>\n",
              "      <td>Natal</td>\n",
              "      <td>2019-01-08</td>\n",
              "      <td>859.0</td>\n",
              "      <td>854</td>\n",
              "      <td>4</td>\n",
              "      <td>3436.0</td>\n",
              "      <td>4.0</td>\n",
              "    </tr>\n",
              "  </tbody>\n",
              "</table>\n",
              "</div>"
            ],
            "text/plain": [
              "   Cidade       Data  Vendas LojaID  Qtde  Receita  Receita/Vendas\n",
              "7   Natal 2019-03-18   886.0    853     4   3544.0             4.0\n",
              "51  Natal 2018-01-21   859.0    852     4   3436.0             4.0\n",
              "55  Natal 2019-01-08   859.0    854     4   3436.0             4.0"
            ]
          },
          "metadata": {},
          "execution_count": 19
        }
      ]
    },
    {
      "cell_type": "code",
      "metadata": {
        "colab": {
          "base_uri": "https://localhost:8080/",
          "height": 144
        },
        "id": "zU8Kp-8-DXly",
        "outputId": "05686f8b-12d8-4567-870c-79574b6effbd"
      },
      "source": [
        "df2.nsmallest(3,'Receita')"
      ],
      "execution_count": 20,
      "outputs": [
        {
          "output_type": "execute_result",
          "data": {
            "text/html": [
              "<div>\n",
              "<style scoped>\n",
              "    .dataframe tbody tr th:only-of-type {\n",
              "        vertical-align: middle;\n",
              "    }\n",
              "\n",
              "    .dataframe tbody tr th {\n",
              "        vertical-align: top;\n",
              "    }\n",
              "\n",
              "    .dataframe thead th {\n",
              "        text-align: right;\n",
              "    }\n",
              "</style>\n",
              "<table border=\"1\" class=\"dataframe\">\n",
              "  <thead>\n",
              "    <tr style=\"text-align: right;\">\n",
              "      <th></th>\n",
              "      <th>Cidade</th>\n",
              "      <th>Data</th>\n",
              "      <th>Vendas</th>\n",
              "      <th>LojaID</th>\n",
              "      <th>Qtde</th>\n",
              "      <th>Receita</th>\n",
              "      <th>Receita/Vendas</th>\n",
              "    </tr>\n",
              "  </thead>\n",
              "  <tbody>\n",
              "    <tr>\n",
              "      <th>118</th>\n",
              "      <td>Aracaju</td>\n",
              "      <td>2018-01-01</td>\n",
              "      <td>3.34</td>\n",
              "      <td>1522</td>\n",
              "      <td>1</td>\n",
              "      <td>3.34</td>\n",
              "      <td>1.0</td>\n",
              "    </tr>\n",
              "    <tr>\n",
              "      <th>65</th>\n",
              "      <td>Recife</td>\n",
              "      <td>2019-01-01</td>\n",
              "      <td>4.01</td>\n",
              "      <td>981</td>\n",
              "      <td>1</td>\n",
              "      <td>4.01</td>\n",
              "      <td>1.0</td>\n",
              "    </tr>\n",
              "    <tr>\n",
              "      <th>92</th>\n",
              "      <td>Natal</td>\n",
              "      <td>2019-01-02</td>\n",
              "      <td>4.57</td>\n",
              "      <td>1035</td>\n",
              "      <td>1</td>\n",
              "      <td>4.57</td>\n",
              "      <td>1.0</td>\n",
              "    </tr>\n",
              "  </tbody>\n",
              "</table>\n",
              "</div>"
            ],
            "text/plain": [
              "      Cidade       Data  Vendas LojaID  Qtde  Receita  Receita/Vendas\n",
              "118  Aracaju 2018-01-01    3.34   1522     1     3.34             1.0\n",
              "65    Recife 2019-01-01    4.01    981     1     4.01             1.0\n",
              "92     Natal 2019-01-02    4.57   1035     1     4.57             1.0"
            ]
          },
          "metadata": {},
          "execution_count": 20
        }
      ]
    },
    {
      "cell_type": "code",
      "metadata": {
        "colab": {
          "base_uri": "https://localhost:8080/"
        },
        "id": "aamMU9DWDeJn",
        "outputId": "45b35412-1ffc-441e-e809-9e67de48fced"
      },
      "source": [
        "df2.sort_values('Receita', ascending=True).groupby('Cidade')['Receita'].sum()"
      ],
      "execution_count": 21,
      "outputs": [
        {
          "output_type": "execute_result",
          "data": {
            "text/plain": [
              "Cidade\n",
              "Aracaju       48748.25\n",
              "Fortaleza     37913.97\n",
              "Natal        167227.52\n",
              "Recife        51936.51\n",
              "Salvador      40596.73\n",
              "Name: Receita, dtype: float64"
            ]
          },
          "metadata": {},
          "execution_count": 21
        }
      ]
    },
    {
      "cell_type": "code",
      "metadata": {
        "colab": {
          "base_uri": "https://localhost:8080/",
          "height": 424
        },
        "id": "yDTq8q-NDrjv",
        "outputId": "8e409810-e987-473d-8378-fa10c17b80c5"
      },
      "source": [
        "df2.sort_values('Receita', ascending=False)"
      ],
      "execution_count": 22,
      "outputs": [
        {
          "output_type": "execute_result",
          "data": {
            "text/html": [
              "<div>\n",
              "<style scoped>\n",
              "    .dataframe tbody tr th:only-of-type {\n",
              "        vertical-align: middle;\n",
              "    }\n",
              "\n",
              "    .dataframe tbody tr th {\n",
              "        vertical-align: top;\n",
              "    }\n",
              "\n",
              "    .dataframe thead th {\n",
              "        text-align: right;\n",
              "    }\n",
              "</style>\n",
              "<table border=\"1\" class=\"dataframe\">\n",
              "  <thead>\n",
              "    <tr style=\"text-align: right;\">\n",
              "      <th></th>\n",
              "      <th>Cidade</th>\n",
              "      <th>Data</th>\n",
              "      <th>Vendas</th>\n",
              "      <th>LojaID</th>\n",
              "      <th>Qtde</th>\n",
              "      <th>Receita</th>\n",
              "      <th>Receita/Vendas</th>\n",
              "    </tr>\n",
              "  </thead>\n",
              "  <tbody>\n",
              "    <tr>\n",
              "      <th>7</th>\n",
              "      <td>Natal</td>\n",
              "      <td>2019-03-18</td>\n",
              "      <td>886.00</td>\n",
              "      <td>853</td>\n",
              "      <td>4</td>\n",
              "      <td>3544.00</td>\n",
              "      <td>4.0</td>\n",
              "    </tr>\n",
              "    <tr>\n",
              "      <th>55</th>\n",
              "      <td>Natal</td>\n",
              "      <td>2019-01-08</td>\n",
              "      <td>859.00</td>\n",
              "      <td>854</td>\n",
              "      <td>4</td>\n",
              "      <td>3436.00</td>\n",
              "      <td>4.0</td>\n",
              "    </tr>\n",
              "    <tr>\n",
              "      <th>51</th>\n",
              "      <td>Natal</td>\n",
              "      <td>2018-01-21</td>\n",
              "      <td>859.00</td>\n",
              "      <td>852</td>\n",
              "      <td>4</td>\n",
              "      <td>3436.00</td>\n",
              "      <td>4.0</td>\n",
              "    </tr>\n",
              "    <tr>\n",
              "      <th>30</th>\n",
              "      <td>Natal</td>\n",
              "      <td>2018-10-02</td>\n",
              "      <td>856.00</td>\n",
              "      <td>853</td>\n",
              "      <td>4</td>\n",
              "      <td>3424.00</td>\n",
              "      <td>4.0</td>\n",
              "    </tr>\n",
              "    <tr>\n",
              "      <th>41</th>\n",
              "      <td>Natal</td>\n",
              "      <td>2018-05-20</td>\n",
              "      <td>835.00</td>\n",
              "      <td>852</td>\n",
              "      <td>4</td>\n",
              "      <td>3340.00</td>\n",
              "      <td>4.0</td>\n",
              "    </tr>\n",
              "    <tr>\n",
              "      <th>...</th>\n",
              "      <td>...</td>\n",
              "      <td>...</td>\n",
              "      <td>...</td>\n",
              "      <td>...</td>\n",
              "      <td>...</td>\n",
              "      <td>...</td>\n",
              "      <td>...</td>\n",
              "    </tr>\n",
              "    <tr>\n",
              "      <th>95</th>\n",
              "      <td>Natal</td>\n",
              "      <td>2019-01-02</td>\n",
              "      <td>5.13</td>\n",
              "      <td>1035</td>\n",
              "      <td>1</td>\n",
              "      <td>5.13</td>\n",
              "      <td>1.0</td>\n",
              "    </tr>\n",
              "    <tr>\n",
              "      <th>92</th>\n",
              "      <td>Natal</td>\n",
              "      <td>2019-01-02</td>\n",
              "      <td>4.57</td>\n",
              "      <td>1035</td>\n",
              "      <td>1</td>\n",
              "      <td>4.57</td>\n",
              "      <td>1.0</td>\n",
              "    </tr>\n",
              "    <tr>\n",
              "      <th>92</th>\n",
              "      <td>Salvador</td>\n",
              "      <td>2019-01-01</td>\n",
              "      <td>4.57</td>\n",
              "      <td>1035</td>\n",
              "      <td>1</td>\n",
              "      <td>4.57</td>\n",
              "      <td>1.0</td>\n",
              "    </tr>\n",
              "    <tr>\n",
              "      <th>65</th>\n",
              "      <td>Recife</td>\n",
              "      <td>2019-01-01</td>\n",
              "      <td>4.01</td>\n",
              "      <td>981</td>\n",
              "      <td>1</td>\n",
              "      <td>4.01</td>\n",
              "      <td>1.0</td>\n",
              "    </tr>\n",
              "    <tr>\n",
              "      <th>118</th>\n",
              "      <td>Aracaju</td>\n",
              "      <td>2018-01-01</td>\n",
              "      <td>3.34</td>\n",
              "      <td>1522</td>\n",
              "      <td>1</td>\n",
              "      <td>3.34</td>\n",
              "      <td>1.0</td>\n",
              "    </tr>\n",
              "  </tbody>\n",
              "</table>\n",
              "<p>894 rows × 7 columns</p>\n",
              "</div>"
            ],
            "text/plain": [
              "       Cidade       Data  Vendas LojaID  Qtde  Receita  Receita/Vendas\n",
              "7       Natal 2019-03-18  886.00    853     4  3544.00             4.0\n",
              "55      Natal 2019-01-08  859.00    854     4  3436.00             4.0\n",
              "51      Natal 2018-01-21  859.00    852     4  3436.00             4.0\n",
              "30      Natal 2018-10-02  856.00    853     4  3424.00             4.0\n",
              "41      Natal 2018-05-20  835.00    852     4  3340.00             4.0\n",
              "..        ...        ...     ...    ...   ...      ...             ...\n",
              "95      Natal 2019-01-02    5.13   1035     1     5.13             1.0\n",
              "92      Natal 2019-01-02    4.57   1035     1     4.57             1.0\n",
              "92   Salvador 2019-01-01    4.57   1035     1     4.57             1.0\n",
              "65     Recife 2019-01-01    4.01    981     1     4.01             1.0\n",
              "118   Aracaju 2018-01-01    3.34   1522     1     3.34             1.0\n",
              "\n",
              "[894 rows x 7 columns]"
            ]
          },
          "metadata": {},
          "execution_count": 22
        }
      ]
    },
    {
      "cell_type": "code",
      "metadata": {
        "id": "9Ho5B_ZcD1Wn"
      },
      "source": [
        "df2['Data'] = df2['Data'].astype('int64')"
      ],
      "execution_count": 23,
      "outputs": []
    },
    {
      "cell_type": "code",
      "metadata": {
        "id": "bQjxZodjK3VB"
      },
      "source": [
        "df2['Data'] = pd.to_datetime(df2['Data'])"
      ],
      "execution_count": 24,
      "outputs": []
    },
    {
      "cell_type": "code",
      "metadata": {
        "colab": {
          "base_uri": "https://localhost:8080/"
        },
        "id": "2KiFaOwpO3Ua",
        "outputId": "99973a73-018d-4d64-c952-9dd62afde5c7"
      },
      "source": [
        "df2.groupby(df2['Data'].dt.year)['Receita'].sum()"
      ],
      "execution_count": 25,
      "outputs": [
        {
          "output_type": "execute_result",
          "data": {
            "text/plain": [
              "Data\n",
              "2018    118176.53\n",
              "2019    228246.45\n",
              "Name: Receita, dtype: float64"
            ]
          },
          "metadata": {},
          "execution_count": 25
        }
      ]
    },
    {
      "cell_type": "code",
      "metadata": {
        "id": "vI7vL7iJPFEp"
      },
      "source": [
        "df2['Ano_Venda'] = df2['Data'].dt.year"
      ],
      "execution_count": 26,
      "outputs": []
    },
    {
      "cell_type": "code",
      "metadata": {
        "id": "dh36QYuO-UPq"
      },
      "source": [
        "df2['Mes_Venda'], df2['Dia_Venda'] = (df2['Data'].dt.month, df2['Data'].dt.day)"
      ],
      "execution_count": 27,
      "outputs": []
    },
    {
      "cell_type": "code",
      "metadata": {
        "colab": {
          "base_uri": "https://localhost:8080/"
        },
        "id": "91I51QYN-tRd",
        "outputId": "a9fd90cb-b505-4d17-df84-11b070ad1dde"
      },
      "source": [
        "df2['Data'].min()"
      ],
      "execution_count": 28,
      "outputs": [
        {
          "output_type": "execute_result",
          "data": {
            "text/plain": [
              "Timestamp('2018-01-01 00:00:00')"
            ]
          },
          "metadata": {},
          "execution_count": 28
        }
      ]
    },
    {
      "cell_type": "code",
      "metadata": {
        "id": "-wZBcG7L-2mX"
      },
      "source": [
        "df2['dif_dias'] = df2['Data'] - df2['Data'].min()"
      ],
      "execution_count": 29,
      "outputs": []
    },
    {
      "cell_type": "code",
      "metadata": {
        "id": "V_WNrVUq_IzF"
      },
      "source": [
        "df2['Trimestre_Venda'] = df2['Data'].dt.quarter"
      ],
      "execution_count": 30,
      "outputs": []
    },
    {
      "cell_type": "code",
      "metadata": {
        "colab": {
          "base_uri": "https://localhost:8080/",
          "height": 424
        },
        "id": "xBbLo_Dk_d9G",
        "outputId": "dbc22d7f-1af9-494a-afea-f5de72fe8589"
      },
      "source": [
        "df2.sample(91)"
      ],
      "execution_count": 31,
      "outputs": [
        {
          "output_type": "execute_result",
          "data": {
            "text/html": [
              "<div>\n",
              "<style scoped>\n",
              "    .dataframe tbody tr th:only-of-type {\n",
              "        vertical-align: middle;\n",
              "    }\n",
              "\n",
              "    .dataframe tbody tr th {\n",
              "        vertical-align: top;\n",
              "    }\n",
              "\n",
              "    .dataframe thead th {\n",
              "        text-align: right;\n",
              "    }\n",
              "</style>\n",
              "<table border=\"1\" class=\"dataframe\">\n",
              "  <thead>\n",
              "    <tr style=\"text-align: right;\">\n",
              "      <th></th>\n",
              "      <th>Cidade</th>\n",
              "      <th>Data</th>\n",
              "      <th>Vendas</th>\n",
              "      <th>LojaID</th>\n",
              "      <th>Qtde</th>\n",
              "      <th>Receita</th>\n",
              "      <th>Receita/Vendas</th>\n",
              "      <th>Ano_Venda</th>\n",
              "      <th>Mes_Venda</th>\n",
              "      <th>Dia_Venda</th>\n",
              "      <th>dif_dias</th>\n",
              "      <th>Trimestre_Venda</th>\n",
              "    </tr>\n",
              "  </thead>\n",
              "  <tbody>\n",
              "    <tr>\n",
              "      <th>46</th>\n",
              "      <td>Salvador</td>\n",
              "      <td>2019-01-01</td>\n",
              "      <td>34.84</td>\n",
              "      <td>1034</td>\n",
              "      <td>3</td>\n",
              "      <td>104.52</td>\n",
              "      <td>3.0</td>\n",
              "      <td>2019</td>\n",
              "      <td>1</td>\n",
              "      <td>1</td>\n",
              "      <td>365 days</td>\n",
              "      <td>1</td>\n",
              "    </tr>\n",
              "    <tr>\n",
              "      <th>105</th>\n",
              "      <td>Fortaleza</td>\n",
              "      <td>2019-01-01</td>\n",
              "      <td>174.66</td>\n",
              "      <td>1004</td>\n",
              "      <td>1</td>\n",
              "      <td>174.66</td>\n",
              "      <td>1.0</td>\n",
              "      <td>2019</td>\n",
              "      <td>1</td>\n",
              "      <td>1</td>\n",
              "      <td>365 days</td>\n",
              "      <td>1</td>\n",
              "    </tr>\n",
              "    <tr>\n",
              "      <th>64</th>\n",
              "      <td>Fortaleza</td>\n",
              "      <td>2019-01-01</td>\n",
              "      <td>110.31</td>\n",
              "      <td>1005</td>\n",
              "      <td>4</td>\n",
              "      <td>441.24</td>\n",
              "      <td>4.0</td>\n",
              "      <td>2019</td>\n",
              "      <td>1</td>\n",
              "      <td>1</td>\n",
              "      <td>365 days</td>\n",
              "      <td>1</td>\n",
              "    </tr>\n",
              "    <tr>\n",
              "      <th>97</th>\n",
              "      <td>Recife</td>\n",
              "      <td>2019-01-01</td>\n",
              "      <td>153.04</td>\n",
              "      <td>983</td>\n",
              "      <td>4</td>\n",
              "      <td>612.16</td>\n",
              "      <td>4.0</td>\n",
              "      <td>2019</td>\n",
              "      <td>1</td>\n",
              "      <td>1</td>\n",
              "      <td>365 days</td>\n",
              "      <td>1</td>\n",
              "    </tr>\n",
              "    <tr>\n",
              "      <th>83</th>\n",
              "      <td>Aracaju</td>\n",
              "      <td>2018-01-01</td>\n",
              "      <td>14.44</td>\n",
              "      <td>1520</td>\n",
              "      <td>5</td>\n",
              "      <td>72.20</td>\n",
              "      <td>5.0</td>\n",
              "      <td>2018</td>\n",
              "      <td>1</td>\n",
              "      <td>1</td>\n",
              "      <td>0 days</td>\n",
              "      <td>1</td>\n",
              "    </tr>\n",
              "    <tr>\n",
              "      <th>...</th>\n",
              "      <td>...</td>\n",
              "      <td>...</td>\n",
              "      <td>...</td>\n",
              "      <td>...</td>\n",
              "      <td>...</td>\n",
              "      <td>...</td>\n",
              "      <td>...</td>\n",
              "      <td>...</td>\n",
              "      <td>...</td>\n",
              "      <td>...</td>\n",
              "      <td>...</td>\n",
              "      <td>...</td>\n",
              "    </tr>\n",
              "    <tr>\n",
              "      <th>91</th>\n",
              "      <td>Natal</td>\n",
              "      <td>2019-01-02</td>\n",
              "      <td>17.74</td>\n",
              "      <td>1035</td>\n",
              "      <td>1</td>\n",
              "      <td>17.74</td>\n",
              "      <td>1.0</td>\n",
              "      <td>2019</td>\n",
              "      <td>1</td>\n",
              "      <td>2</td>\n",
              "      <td>366 days</td>\n",
              "      <td>1</td>\n",
              "    </tr>\n",
              "    <tr>\n",
              "      <th>2</th>\n",
              "      <td>Natal</td>\n",
              "      <td>2019-03-11</td>\n",
              "      <td>308.00</td>\n",
              "      <td>852</td>\n",
              "      <td>3</td>\n",
              "      <td>924.00</td>\n",
              "      <td>3.0</td>\n",
              "      <td>2019</td>\n",
              "      <td>3</td>\n",
              "      <td>11</td>\n",
              "      <td>434 days</td>\n",
              "      <td>1</td>\n",
              "    </tr>\n",
              "    <tr>\n",
              "      <th>216</th>\n",
              "      <td>Salvador</td>\n",
              "      <td>2019-01-02</td>\n",
              "      <td>5.82</td>\n",
              "      <td>1035</td>\n",
              "      <td>1</td>\n",
              "      <td>5.82</td>\n",
              "      <td>1.0</td>\n",
              "      <td>2019</td>\n",
              "      <td>1</td>\n",
              "      <td>2</td>\n",
              "      <td>366 days</td>\n",
              "      <td>1</td>\n",
              "    </tr>\n",
              "    <tr>\n",
              "      <th>101</th>\n",
              "      <td>Aracaju</td>\n",
              "      <td>2018-01-01</td>\n",
              "      <td>16.62</td>\n",
              "      <td>1520</td>\n",
              "      <td>9</td>\n",
              "      <td>149.58</td>\n",
              "      <td>9.0</td>\n",
              "      <td>2018</td>\n",
              "      <td>1</td>\n",
              "      <td>1</td>\n",
              "      <td>0 days</td>\n",
              "      <td>1</td>\n",
              "    </tr>\n",
              "    <tr>\n",
              "      <th>76</th>\n",
              "      <td>Recife</td>\n",
              "      <td>2019-01-01</td>\n",
              "      <td>17.86</td>\n",
              "      <td>980</td>\n",
              "      <td>5</td>\n",
              "      <td>89.30</td>\n",
              "      <td>5.0</td>\n",
              "      <td>2019</td>\n",
              "      <td>1</td>\n",
              "      <td>1</td>\n",
              "      <td>365 days</td>\n",
              "      <td>1</td>\n",
              "    </tr>\n",
              "  </tbody>\n",
              "</table>\n",
              "<p>91 rows × 12 columns</p>\n",
              "</div>"
            ],
            "text/plain": [
              "        Cidade       Data  Vendas  ... Dia_Venda  dif_dias  Trimestre_Venda\n",
              "46    Salvador 2019-01-01   34.84  ...         1  365 days                1\n",
              "105  Fortaleza 2019-01-01  174.66  ...         1  365 days                1\n",
              "64   Fortaleza 2019-01-01  110.31  ...         1  365 days                1\n",
              "97      Recife 2019-01-01  153.04  ...         1  365 days                1\n",
              "83     Aracaju 2018-01-01   14.44  ...         1    0 days                1\n",
              "..         ...        ...     ...  ...       ...       ...              ...\n",
              "91       Natal 2019-01-02   17.74  ...         2  366 days                1\n",
              "2        Natal 2019-03-11  308.00  ...        11  434 days                1\n",
              "216   Salvador 2019-01-02    5.82  ...         2  366 days                1\n",
              "101    Aracaju 2018-01-01   16.62  ...         1    0 days                1\n",
              "76      Recife 2019-01-01   17.86  ...         1  365 days                1\n",
              "\n",
              "[91 rows x 12 columns]"
            ]
          },
          "metadata": {},
          "execution_count": 31
        }
      ]
    },
    {
      "cell_type": "markdown",
      "metadata": {
        "id": "DBm_ytHNA-9-"
      },
      "source": [
        "#### Derivações específicas"
      ]
    },
    {
      "cell_type": "code",
      "metadata": {
        "id": "DWC5OQ49_lPt"
      },
      "source": [
        "vendas_mar_19 = df2.loc[(df2['Data'].dt.year == 2019) & (df2['Data'].dt.month == 3)]"
      ],
      "execution_count": 32,
      "outputs": []
    },
    {
      "cell_type": "code",
      "metadata": {
        "colab": {
          "base_uri": "https://localhost:8080/",
          "height": 424
        },
        "id": "KuFbF0ggADbt",
        "outputId": "750b2b98-ee9b-40d5-e658-b6ed42ec08d7"
      },
      "source": [
        "vendas_mar_19"
      ],
      "execution_count": 33,
      "outputs": [
        {
          "output_type": "execute_result",
          "data": {
            "text/html": [
              "<div>\n",
              "<style scoped>\n",
              "    .dataframe tbody tr th:only-of-type {\n",
              "        vertical-align: middle;\n",
              "    }\n",
              "\n",
              "    .dataframe tbody tr th {\n",
              "        vertical-align: top;\n",
              "    }\n",
              "\n",
              "    .dataframe thead th {\n",
              "        text-align: right;\n",
              "    }\n",
              "</style>\n",
              "<table border=\"1\" class=\"dataframe\">\n",
              "  <thead>\n",
              "    <tr style=\"text-align: right;\">\n",
              "      <th></th>\n",
              "      <th>Cidade</th>\n",
              "      <th>Data</th>\n",
              "      <th>Vendas</th>\n",
              "      <th>LojaID</th>\n",
              "      <th>Qtde</th>\n",
              "      <th>Receita</th>\n",
              "      <th>Receita/Vendas</th>\n",
              "      <th>Ano_Venda</th>\n",
              "      <th>Mes_Venda</th>\n",
              "      <th>Dia_Venda</th>\n",
              "      <th>dif_dias</th>\n",
              "      <th>Trimestre_Venda</th>\n",
              "    </tr>\n",
              "  </thead>\n",
              "  <tbody>\n",
              "    <tr>\n",
              "      <th>108</th>\n",
              "      <td>Fortaleza</td>\n",
              "      <td>2019-03-02</td>\n",
              "      <td>152.89</td>\n",
              "      <td>981</td>\n",
              "      <td>4</td>\n",
              "      <td>611.56</td>\n",
              "      <td>4.0</td>\n",
              "      <td>2019</td>\n",
              "      <td>3</td>\n",
              "      <td>2</td>\n",
              "      <td>425 days</td>\n",
              "      <td>1</td>\n",
              "    </tr>\n",
              "    <tr>\n",
              "      <th>109</th>\n",
              "      <td>Fortaleza</td>\n",
              "      <td>2019-03-02</td>\n",
              "      <td>18.90</td>\n",
              "      <td>982</td>\n",
              "      <td>6</td>\n",
              "      <td>113.40</td>\n",
              "      <td>6.0</td>\n",
              "      <td>2019</td>\n",
              "      <td>3</td>\n",
              "      <td>2</td>\n",
              "      <td>425 days</td>\n",
              "      <td>1</td>\n",
              "    </tr>\n",
              "    <tr>\n",
              "      <th>110</th>\n",
              "      <td>Fortaleza</td>\n",
              "      <td>2019-03-02</td>\n",
              "      <td>51.98</td>\n",
              "      <td>983</td>\n",
              "      <td>6</td>\n",
              "      <td>311.88</td>\n",
              "      <td>6.0</td>\n",
              "      <td>2019</td>\n",
              "      <td>3</td>\n",
              "      <td>2</td>\n",
              "      <td>425 days</td>\n",
              "      <td>1</td>\n",
              "    </tr>\n",
              "    <tr>\n",
              "      <th>111</th>\n",
              "      <td>Fortaleza</td>\n",
              "      <td>2019-03-02</td>\n",
              "      <td>8.00</td>\n",
              "      <td>981</td>\n",
              "      <td>3</td>\n",
              "      <td>24.00</td>\n",
              "      <td>3.0</td>\n",
              "      <td>2019</td>\n",
              "      <td>3</td>\n",
              "      <td>2</td>\n",
              "      <td>425 days</td>\n",
              "      <td>1</td>\n",
              "    </tr>\n",
              "    <tr>\n",
              "      <th>112</th>\n",
              "      <td>Fortaleza</td>\n",
              "      <td>2019-03-02</td>\n",
              "      <td>133.59</td>\n",
              "      <td>982</td>\n",
              "      <td>1</td>\n",
              "      <td>133.59</td>\n",
              "      <td>1.0</td>\n",
              "      <td>2019</td>\n",
              "      <td>3</td>\n",
              "      <td>2</td>\n",
              "      <td>425 days</td>\n",
              "      <td>1</td>\n",
              "    </tr>\n",
              "    <tr>\n",
              "      <th>...</th>\n",
              "      <td>...</td>\n",
              "      <td>...</td>\n",
              "      <td>...</td>\n",
              "      <td>...</td>\n",
              "      <td>...</td>\n",
              "      <td>...</td>\n",
              "      <td>...</td>\n",
              "      <td>...</td>\n",
              "      <td>...</td>\n",
              "      <td>...</td>\n",
              "      <td>...</td>\n",
              "      <td>...</td>\n",
              "    </tr>\n",
              "    <tr>\n",
              "      <th>137</th>\n",
              "      <td>Salvador</td>\n",
              "      <td>2019-03-02</td>\n",
              "      <td>51.66</td>\n",
              "      <td>1036</td>\n",
              "      <td>3</td>\n",
              "      <td>154.98</td>\n",
              "      <td>3.0</td>\n",
              "      <td>2019</td>\n",
              "      <td>3</td>\n",
              "      <td>2</td>\n",
              "      <td>425 days</td>\n",
              "      <td>1</td>\n",
              "    </tr>\n",
              "    <tr>\n",
              "      <th>138</th>\n",
              "      <td>Salvador</td>\n",
              "      <td>2019-03-02</td>\n",
              "      <td>212.03</td>\n",
              "      <td>1037</td>\n",
              "      <td>3</td>\n",
              "      <td>636.09</td>\n",
              "      <td>3.0</td>\n",
              "      <td>2019</td>\n",
              "      <td>3</td>\n",
              "      <td>2</td>\n",
              "      <td>425 days</td>\n",
              "      <td>1</td>\n",
              "    </tr>\n",
              "    <tr>\n",
              "      <th>139</th>\n",
              "      <td>Salvador</td>\n",
              "      <td>2019-03-02</td>\n",
              "      <td>169.01</td>\n",
              "      <td>1036</td>\n",
              "      <td>1</td>\n",
              "      <td>169.01</td>\n",
              "      <td>1.0</td>\n",
              "      <td>2019</td>\n",
              "      <td>3</td>\n",
              "      <td>2</td>\n",
              "      <td>425 days</td>\n",
              "      <td>1</td>\n",
              "    </tr>\n",
              "    <tr>\n",
              "      <th>140</th>\n",
              "      <td>Salvador</td>\n",
              "      <td>2019-03-02</td>\n",
              "      <td>20.79</td>\n",
              "      <td>1036</td>\n",
              "      <td>2</td>\n",
              "      <td>41.58</td>\n",
              "      <td>2.0</td>\n",
              "      <td>2019</td>\n",
              "      <td>3</td>\n",
              "      <td>2</td>\n",
              "      <td>425 days</td>\n",
              "      <td>1</td>\n",
              "    </tr>\n",
              "    <tr>\n",
              "      <th>141</th>\n",
              "      <td>Salvador</td>\n",
              "      <td>2019-03-02</td>\n",
              "      <td>9.08</td>\n",
              "      <td>1036</td>\n",
              "      <td>1</td>\n",
              "      <td>9.08</td>\n",
              "      <td>1.0</td>\n",
              "      <td>2019</td>\n",
              "      <td>3</td>\n",
              "      <td>2</td>\n",
              "      <td>425 days</td>\n",
              "      <td>1</td>\n",
              "    </tr>\n",
              "  </tbody>\n",
              "</table>\n",
              "<p>121 rows × 12 columns</p>\n",
              "</div>"
            ],
            "text/plain": [
              "        Cidade       Data  Vendas  ... Dia_Venda  dif_dias  Trimestre_Venda\n",
              "108  Fortaleza 2019-03-02  152.89  ...         2  425 days                1\n",
              "109  Fortaleza 2019-03-02   18.90  ...         2  425 days                1\n",
              "110  Fortaleza 2019-03-02   51.98  ...         2  425 days                1\n",
              "111  Fortaleza 2019-03-02    8.00  ...         2  425 days                1\n",
              "112  Fortaleza 2019-03-02  133.59  ...         2  425 days                1\n",
              "..         ...        ...     ...  ...       ...       ...              ...\n",
              "137   Salvador 2019-03-02   51.66  ...         2  425 days                1\n",
              "138   Salvador 2019-03-02  212.03  ...         2  425 days                1\n",
              "139   Salvador 2019-03-02  169.01  ...         2  425 days                1\n",
              "140   Salvador 2019-03-02   20.79  ...         2  425 days                1\n",
              "141   Salvador 2019-03-02    9.08  ...         2  425 days                1\n",
              "\n",
              "[121 rows x 12 columns]"
            ]
          },
          "metadata": {},
          "execution_count": 33
        }
      ]
    },
    {
      "cell_type": "markdown",
      "metadata": {
        "id": "cpIv1hjIGY5h"
      },
      "source": [
        "#### Visualizações"
      ]
    },
    {
      "cell_type": "code",
      "metadata": {
        "id": "gjGTN9iCAK1U",
        "colab": {
          "base_uri": "https://localhost:8080/",
          "height": 281
        },
        "outputId": "7ac9e0fb-7688-4d8e-d80d-11440fddecc9"
      },
      "source": [
        "df2['LojaID'].value_counts(ascending=False).plot.bar();"
      ],
      "execution_count": 34,
      "outputs": [
        {
          "output_type": "display_data",
          "data": {
            "image/png": "[encoded data removed]",
            "text/plain": [
              "<Figure size 432x288 with 1 Axes>"
            ]
          },
          "metadata": {
            "needs_background": "light"
          }
        }
      ]
    },
    {
      "cell_type": "code",
      "metadata": {
        "colab": {
          "base_uri": "https://localhost:8080/",
          "height": 265
        },
        "id": "O_f6lvqbQ0p0",
        "outputId": "ccdf6010-29cd-4050-ec12-d5ab0de925e3"
      },
      "source": [
        "df2['LojaID'].value_counts(ascending=True).plot.barh();"
      ],
      "execution_count": 35,
      "outputs": [
        {
          "output_type": "display_data",
          "data": {
            "image/png": "[encoded data removed]",
            "text/plain": [
              "<Figure size 432x288 with 1 Axes>"
            ]
          },
          "metadata": {
            "needs_background": "light"
          }
        }
      ]
    },
    {
      "cell_type": "code",
      "metadata": {
        "colab": {
          "base_uri": "https://localhost:8080/",
          "height": 248
        },
        "id": "R2Xbn1zVRAr5",
        "outputId": "efcaafc9-fe77-4c02-edfd-cfe52b54fcc5"
      },
      "source": [
        "df2.groupby(df2['Data'].dt.year)['Receita'].sum().plot.pie();"
      ],
      "execution_count": 36,
      "outputs": [
        {
          "output_type": "display_data",
          "data": {
            "image/png": "[encoded data removed]",
            "text/plain": [
              "<Figure size 432x288 with 1 Axes>"
            ]
          },
          "metadata": {}
        }
      ]
    },
    {
      "cell_type": "code",
      "metadata": {
        "colab": {
          "base_uri": "https://localhost:8080/"
        },
        "id": "pWNIwRNxRLbx",
        "outputId": "80479ce0-a75a-46a3-b523-9769dfe2e5d7"
      },
      "source": [
        "df2['Cidade'].value_counts()"
      ],
      "execution_count": 37,
      "outputs": [
        {
          "output_type": "execute_result",
          "data": {
            "text/plain": [
              "Salvador     240\n",
              "Natal        240\n",
              "Fortaleza    142\n",
              "Recife       142\n",
              "Aracaju      130\n",
              "Name: Cidade, dtype: int64"
            ]
          },
          "metadata": {},
          "execution_count": 37
        }
      ]
    },
    {
      "cell_type": "code",
      "metadata": {
        "colab": {
          "base_uri": "https://localhost:8080/",
          "height": 331
        },
        "id": "Xp4ILnFCSHOC",
        "outputId": "33476f10-ba03-4d81-9d19-dac12c9c51f3"
      },
      "source": [
        "df2['Cidade'].value_counts().plot.bar(title='total vendas/cidade',color='seagreen')\n",
        "plt.xlabel('Cidade')\n",
        "plt.ylabel('Total vendas');"
      ],
      "execution_count": 38,
      "outputs": [
        {
          "output_type": "display_data",
          "data": {
            "image/png": "[encoded data removed]",
            "text/plain": [
              "<Figure size 432x288 with 1 Axes>"
            ]
          },
          "metadata": {
            "needs_background": "light"
          }
        }
      ]
    },
    {
      "cell_type": "code",
      "metadata": {
        "id": "sHlmOgfuSNEp"
      },
      "source": [
        "plt.style.use('ggplot')"
      ],
      "execution_count": 39,
      "outputs": []
    },
    {
      "cell_type": "code",
      "metadata": {
        "colab": {
          "base_uri": "https://localhost:8080/",
          "height": 299
        },
        "id": "OXllZavGTsLT",
        "outputId": "c943a4d6-5a85-4750-9ace-baed461f6e92"
      },
      "source": [
        "df2.groupby(df2['Mes_Venda'])['Qtde'].sum().plot(title = 'Total Produtos Vendidos/Mes')\n",
        "plt.xlabel('Mes')\n",
        "plt.ylabel('Total Produtos Vendidos')\n",
        "plt.legend();"
      ],
      "execution_count": 40,
      "outputs": [
        {
          "output_type": "display_data",
          "data": {
            "image/png": "[encoded data removed]",
            "text/plain": [
              "<Figure size 432x288 with 1 Axes>"
            ]
          },
          "metadata": {}
        }
      ]
    },
    {
      "cell_type": "code",
      "metadata": {
        "id": "WjzKK-8lTXyx"
      },
      "source": [
        "df_2019 = df2[df2['Ano_Venda']==2019]"
      ],
      "execution_count": 41,
      "outputs": []
    },
    {
      "cell_type": "code",
      "metadata": {
        "colab": {
          "base_uri": "https://localhost:8080/",
          "height": 284
        },
        "id": "BYvmJUAIZ9fv",
        "outputId": "e13e5b27-5f72-4308-d4ce-e05827c4005e"
      },
      "source": [
        "df_2019.groupby(df_2019['Mes_Venda'])['Qtde'].sum().plot(marker='v')\n",
        "plt.xlabel('Mes')\n",
        "plt.ylabel('Total Produtos Vendidos')\n",
        "plt.legend();"
      ],
      "execution_count": 42,
      "outputs": [
        {
          "output_type": "display_data",
          "data": {
            "image/png": "[encoded data removed]",
            "text/plain": [
              "<Figure size 432x288 with 1 Axes>"
            ]
          },
          "metadata": {}
        }
      ]
    },
    {
      "cell_type": "code",
      "metadata": {
        "colab": {
          "base_uri": "https://localhost:8080/",
          "height": 265
        },
        "id": "GmpqkST3aRWS",
        "outputId": "67c056e0-c294-4584-9c49-07b755076f95"
      },
      "source": [
        "plt.hist(df2['Qtde'], color='seagreen');"
      ],
      "execution_count": 43,
      "outputs": [
        {
          "output_type": "display_data",
          "data": {
            "image/png": "[encoded data removed]",
            "text/plain": [
              "<Figure size 432x288 with 1 Axes>"
            ]
          },
          "metadata": {}
        }
      ]
    },
    {
      "cell_type": "code",
      "metadata": {
        "colab": {
          "base_uri": "https://localhost:8080/",
          "height": 265
        },
        "id": "CKefVTG0aqgz",
        "outputId": "5aca747d-1d85-43cf-c961-872e7e2badef"
      },
      "source": [
        "plt.scatter(x=df_2019['Dia_Venda'], y = df_2019['Receita']);"
      ],
      "execution_count": 44,
      "outputs": [
        {
          "output_type": "display_data",
          "data": {
            "image/png": "[encoded data removed]",
            "text/plain": [
              "<Figure size 432x288 with 1 Axes>"
            ]
          },
          "metadata": {}
        }
      ]
    },
    {
      "cell_type": "code",
      "metadata": {
        "colab": {
          "base_uri": "https://localhost:8080/",
          "height": 299
        },
        "id": "-6485Rija197",
        "outputId": "d29be7d3-e5bf-491f-faa8-1d4ec1883ca9"
      },
      "source": [
        "df_2019.groupby(df_2019['Mes_Venda'])['Qtde'].sum().plot(marker='o')\n",
        "plt.title('Quantidade de Produtos Vendidos / Mes')\n",
        "plt.xlabel('Mes')\n",
        "plt.ylabel('Quantidade de Produtos Vendidos')\n",
        "plt.legend();\n",
        "#plt.savefig('grafico.png')"
      ],
      "execution_count": 45,
      "outputs": [
        {
          "output_type": "display_data",
          "data": {
            "image/png": "[encoded data removed]",
            "text/plain": [
              "<Figure size 432x288 with 1 Axes>"
            ]
          },
          "metadata": {}
        }
      ]
    },
    {
      "cell_type": "markdown",
      "metadata": {
        "id": "SR3qllqwiWjk"
      },
      "source": [
        "## Parte 3: AdventureWorks"
      ]
    },
    {
      "cell_type": "code",
      "metadata": {
        "id": "NggqVJ78bX7m"
      },
      "source": [
        "plt.style.use('seaborn')"
      ],
      "execution_count": 46,
      "outputs": []
    },
    {
      "cell_type": "code",
      "metadata": {
        "id": "93RAYdK8cOF7",
        "colab": {
          "base_uri": "https://localhost:8080/"
        },
        "outputId": "c32b0b9f-c32b-4f25-a508-fb9c64cd7baa"
      },
      "source": [
        "url = 'https://github.com/helioRocha/dio-ccde-p01/blob/master/datasets/AdventureWorks.xlsx?raw=True'\n",
        "df = pd.read_excel(url)\n",
        "\n",
        "commonEDA(df)"
      ],
      "execution_count": 47,
      "outputs": [
        {
          "output_type": "stream",
          "name": "stdout",
          "text": [
            ">> Estas sao as primeiras 5 linhas do df sob investigação:\n",
            "\n",
            "  Data Venda Data Envio  ID Loja  ...            Marca   Classe  Cor\n",
            "0 2008-05-09 2008-05-29      199  ...  Adventure Works  Regular  Red\n",
            "1 2008-05-12 2008-05-17      306  ...  Adventure Works  Regular  Red\n",
            "2 2008-05-14 2008-05-20      306  ...  Adventure Works  Regular  Red\n",
            "3 2008-05-21 2008-05-27      306  ...  Adventure Works  Regular  Red\n",
            "4 2008-06-20 2008-06-27      306  ...  Adventure Works  Regular  Red\n",
            "\n",
            "[5 rows x 16 columns] \n",
            "\n",
            ">> E a seguir temos as suas ultimas linhas:\n",
            "\n",
            "    Data Venda Data Envio  ID Loja  ...     Marca   Classe    Cor\n",
            "899 2008-03-22 2008-04-04      306  ...  Fabrikam  Regular  Black\n",
            "900 2008-10-04 2008-10-15      306  ...  Fabrikam  Regular  Black\n",
            "901 2008-12-11 2008-12-15      306  ...  Fabrikam  Regular  Black\n",
            "902 2008-12-17 2008-12-21      306  ...  Fabrikam  Regular  Black\n",
            "903 2008-12-21 2008-12-25      306  ...  Fabrikam  Regular  Black\n",
            "\n",
            "[5 rows x 16 columns] \n",
            "\n",
            ">> Na sequencia, sao apresentadas informacoes sobre o df - que \n",
            "tem 904 linha(s) e 16 coluna(s) -, incluindo o tipo de indice \n",
            "e os tipos de coluna, valores nao nulos e uso de memoria:\n",
            "\n",
            "<class 'pandas.core.frame.DataFrame'>\n",
            "RangeIndex: 904 entries, 0 to 903\n",
            "Data columns (total 16 columns):\n",
            " #   Column          Non-Null Count  Dtype         \n",
            "---  ------          --------------  -----         \n",
            " 0   Data Venda      904 non-null    datetime64[ns]\n",
            " 1   Data Envio      904 non-null    datetime64[ns]\n",
            " 2   ID Loja         904 non-null    int64         \n",
            " 3   ID Produto      904 non-null    int64         \n",
            " 4   ID Cliente      904 non-null    int64         \n",
            " 5   No. Venda       904 non-null    object        \n",
            " 6   Custo Unitário  904 non-null    float64       \n",
            " 7   Preço Unitário  904 non-null    float64       \n",
            " 8   Quantidade      904 non-null    int64         \n",
            " 9   Valor Desconto  904 non-null    float64       \n",
            " 10  Valor Venda     904 non-null    float64       \n",
            " 11  Produto         904 non-null    object        \n",
            " 12  Fabricante      904 non-null    object        \n",
            " 13  Marca           904 non-null    object        \n",
            " 14  Classe          904 non-null    object        \n",
            " 15  Cor             904 non-null    object        \n",
            "dtypes: datetime64[ns](2), float64(4), int64(4), object(6)\n",
            "memory usage: 113.1+ KB\n",
            "None \n",
            "\n",
            ">> Nao ha colunas com valores null/NaN.\n",
            "\n",
            ">> Enfim, e apresentado o sumario estatistico para features numericas\n",
            " do df:\n",
            "\n",
            "          ID Loja   ID Produto  ...  Valor Desconto   Valor Venda\n",
            "count  904.000000   904.000000  ...      904.000000    904.000000\n",
            "mean   270.015487  1225.238938  ...      689.123294   6620.139538\n",
            "std     50.955280   706.698742  ...      822.363117   4319.407257\n",
            "min    199.000000   366.000000  ...        0.000000    159.840000\n",
            "25%    199.000000   384.000000  ...        0.000000   3920.000000\n",
            "50%    306.000000  1202.000000  ...      461.166000   5798.700000\n",
            "75%    307.000000  1226.000000  ...     1005.075000   7986.000000\n",
            "max    307.000000  2497.000000  ...     6272.000000  29400.000000\n",
            "\n",
            "[8 rows x 8 columns] \n",
            "\n"
          ]
        }
      ]
    },
    {
      "cell_type": "code",
      "metadata": {
        "colab": {
          "base_uri": "https://localhost:8080/"
        },
        "id": "f7-5Om7jU1Pi",
        "outputId": "66be0f70-35e6-4669-cb86-f1a1d20bf78a"
      },
      "source": [
        "df.groupby('ID Cliente')['Produto'].sum()"
      ],
      "execution_count": 48,
      "outputs": [
        {
          "output_type": "execute_result",
          "data": {
            "text/plain": [
              "ID Cliente\n",
              "18815    Adventure Works Laptop15.4W M1548 RedFabrikam ...\n",
              "18816    Fabrikam Trendsetter 2/3'' 17mm X100 GreyFabri...\n",
              "18819    Fabrikam Trendsetter 1/3'' 8.5mm X200 WhiteFab...\n",
              "18822    Fabrikam Trendsetter 1/3'' 8.5mm X200 WhiteFab...\n",
              "18823    Fabrikam Trendsetter 2/3'' 17mm X100 BlackAdve...\n",
              "                               ...                        \n",
              "19137    Adventure Works Laptop15.4W M1548 RedFabrikam ...\n",
              "19138    Fabrikam Trendsetter 1/3'' 8.5mm X200 WhiteAdv...\n",
              "19139    Headphone Adapter for Contoso Phone E130 Silve...\n",
              "19140    Fabrikam Trendsetter 1/3'' 8.5mm X200 WhiteAdv...\n",
              "19145    Adventure Works Laptop15.4W M1548 RedFabrikam ...\n",
              "Name: Produto, Length: 168, dtype: object"
            ]
          },
          "metadata": {},
          "execution_count": 48
        }
      ]
    },
    {
      "cell_type": "code",
      "metadata": {
        "colab": {
          "base_uri": "https://localhost:8080/"
        },
        "id": "AahRxwPzcsuM",
        "outputId": "51336cfe-9f77-43e5-afe7-36179405d597"
      },
      "source": [
        "df['Valor Venda'].sum()"
      ],
      "execution_count": 49,
      "outputs": [
        {
          "output_type": "execute_result",
          "data": {
            "text/plain": [
              "5984606.1426"
            ]
          },
          "metadata": {},
          "execution_count": 49
        }
      ]
    },
    {
      "cell_type": "code",
      "metadata": {
        "id": "2xMCbh0ocwN8"
      },
      "source": [
        "df['Custo']=df['Custo Unitário'].mul(df['Quantidade'])"
      ],
      "execution_count": 50,
      "outputs": []
    },
    {
      "cell_type": "code",
      "metadata": {
        "colab": {
          "base_uri": "https://localhost:8080/"
        },
        "id": "3YFSnewrewGL",
        "outputId": "5d9eb543-d889-4401-978f-568143cedcb8"
      },
      "source": [
        "round(df['Custo'].sum(), 2)"
      ],
      "execution_count": 51,
      "outputs": [
        {
          "output_type": "execute_result",
          "data": {
            "text/plain": [
              "2486783.05"
            ]
          },
          "metadata": {},
          "execution_count": 51
        }
      ]
    },
    {
      "cell_type": "code",
      "metadata": {
        "id": "1oscEV04gBiU"
      },
      "source": [
        "df['Lucro'] = df['Valor Venda'] - df['Custo']"
      ],
      "execution_count": 52,
      "outputs": []
    },
    {
      "cell_type": "code",
      "metadata": {
        "colab": {
          "base_uri": "https://localhost:8080/"
        },
        "id": "2j5GSJG8Wdal",
        "outputId": "d81c7d00-d9e2-4bf4-be20-1dbc8fe39b43"
      },
      "source": [
        "round(df['Lucro'].sum(), 2)"
      ],
      "execution_count": 53,
      "outputs": [
        {
          "output_type": "execute_result",
          "data": {
            "text/plain": [
              "3497823.09"
            ]
          },
          "metadata": {},
          "execution_count": 53
        }
      ]
    },
    {
      "cell_type": "code",
      "metadata": {
        "id": "A2gReVkSWt3R"
      },
      "source": [
        "df['Tempo_envio'] = (df['Data Envio']-df['Data Venda']).dt.days"
      ],
      "execution_count": 54,
      "outputs": []
    },
    {
      "cell_type": "markdown",
      "metadata": {
        "id": "_qQtLmESIeAK"
      },
      "source": [
        "#### Visualizações"
      ]
    },
    {
      "cell_type": "code",
      "metadata": {
        "colab": {
          "base_uri": "https://localhost:8080/"
        },
        "id": "oI30daNOXFBN",
        "outputId": "a5316916-6c7f-477a-9cb0-3b22c45e7a73"
      },
      "source": [
        "df.groupby('Marca')['Tempo_envio'].mean()"
      ],
      "execution_count": 55,
      "outputs": [
        {
          "output_type": "execute_result",
          "data": {
            "text/plain": [
              "Marca\n",
              "Adventure Works    8.663866\n",
              "Contoso            8.470930\n",
              "Fabrikam           8.510121\n",
              "Name: Tempo_envio, dtype: float64"
            ]
          },
          "metadata": {},
          "execution_count": 55
        }
      ]
    },
    {
      "cell_type": "code",
      "metadata": {
        "id": "VeTKJ0_GXfNm",
        "colab": {
          "base_uri": "https://localhost:8080/"
        },
        "outputId": "a8410b39-6bf5-4b01-9733-f799ab3351ad"
      },
      "source": [
        "df.isnull().sum()"
      ],
      "execution_count": 56,
      "outputs": [
        {
          "output_type": "execute_result",
          "data": {
            "text/plain": [
              "Data Venda        0\n",
              "Data Envio        0\n",
              "ID Loja           0\n",
              "ID Produto        0\n",
              "ID Cliente        0\n",
              "No. Venda         0\n",
              "Custo Unitário    0\n",
              "Preço Unitário    0\n",
              "Quantidade        0\n",
              "Valor Desconto    0\n",
              "Valor Venda       0\n",
              "Produto           0\n",
              "Fabricante        0\n",
              "Marca             0\n",
              "Classe            0\n",
              "Cor               0\n",
              "Custo             0\n",
              "Lucro             0\n",
              "Tempo_envio       0\n",
              "dtype: int64"
            ]
          },
          "metadata": {},
          "execution_count": 56
        }
      ]
    },
    {
      "cell_type": "code",
      "metadata": {
        "colab": {
          "base_uri": "https://localhost:8080/",
          "height": 237
        },
        "id": "W3HZwQR_Xmj9",
        "outputId": "e78aa0ca-e04f-4b93-a55b-38529bc4126a"
      },
      "source": [
        "df.groupby([df['Data Venda'].dt.year, 'Marca'])['Lucro'].sum()\n",
        "pd.options.display.float_format = '{:20,.2f}'.format\n",
        "\n",
        "lucro_ano = df.groupby([df['Data Venda'].dt.year, 'Marca'])['Lucro'].sum().reset_index()\n",
        "lucro_ano"
      ],
      "execution_count": 57,
      "outputs": [
        {
          "output_type": "execute_result",
          "data": {
            "text/html": [
              "<div>\n",
              "<style scoped>\n",
              "    .dataframe tbody tr th:only-of-type {\n",
              "        vertical-align: middle;\n",
              "    }\n",
              "\n",
              "    .dataframe tbody tr th {\n",
              "        vertical-align: top;\n",
              "    }\n",
              "\n",
              "    .dataframe thead th {\n",
              "        text-align: right;\n",
              "    }\n",
              "</style>\n",
              "<table border=\"1\" class=\"dataframe\">\n",
              "  <thead>\n",
              "    <tr style=\"text-align: right;\">\n",
              "      <th></th>\n",
              "      <th>Data Venda</th>\n",
              "      <th>Marca</th>\n",
              "      <th>Lucro</th>\n",
              "    </tr>\n",
              "  </thead>\n",
              "  <tbody>\n",
              "    <tr>\n",
              "      <th>0</th>\n",
              "      <td>2008</td>\n",
              "      <td>Adventure Works</td>\n",
              "      <td>306,641.16</td>\n",
              "    </tr>\n",
              "    <tr>\n",
              "      <th>1</th>\n",
              "      <td>2008</td>\n",
              "      <td>Contoso</td>\n",
              "      <td>56,416.00</td>\n",
              "    </tr>\n",
              "    <tr>\n",
              "      <th>2</th>\n",
              "      <td>2008</td>\n",
              "      <td>Fabrikam</td>\n",
              "      <td>1,557,020.55</td>\n",
              "    </tr>\n",
              "    <tr>\n",
              "      <th>3</th>\n",
              "      <td>2009</td>\n",
              "      <td>Adventure Works</td>\n",
              "      <td>405,395.08</td>\n",
              "    </tr>\n",
              "    <tr>\n",
              "      <th>4</th>\n",
              "      <td>2009</td>\n",
              "      <td>Contoso</td>\n",
              "      <td>138,258.95</td>\n",
              "    </tr>\n",
              "    <tr>\n",
              "      <th>5</th>\n",
              "      <td>2009</td>\n",
              "      <td>Fabrikam</td>\n",
              "      <td>1,034,091.35</td>\n",
              "    </tr>\n",
              "  </tbody>\n",
              "</table>\n",
              "</div>"
            ],
            "text/plain": [
              "   Data Venda            Marca                Lucro\n",
              "0        2008  Adventure Works           306,641.16\n",
              "1        2008          Contoso            56,416.00\n",
              "2        2008         Fabrikam         1,557,020.55\n",
              "3        2009  Adventure Works           405,395.08\n",
              "4        2009          Contoso           138,258.95\n",
              "5        2009         Fabrikam         1,034,091.35"
            ]
          },
          "metadata": {},
          "execution_count": 57
        }
      ]
    },
    {
      "cell_type": "code",
      "metadata": {
        "colab": {
          "base_uri": "https://localhost:8080/"
        },
        "id": "G7xOnN1CX-rh",
        "outputId": "4a392bce-a1bd-4a59-f46e-60e9fe9500a0"
      },
      "source": [
        "df.groupby('Produto')['Quantidade'].sum().sort_values(ascending=False)"
      ],
      "execution_count": 58,
      "outputs": [
        {
          "output_type": "execute_result",
          "data": {
            "text/plain": [
              "Produto\n",
              "Headphone Adapter for Contoso Phone E130 Silver    25232\n",
              "Headphone Adapter for Contoso Phone E130 White     25008\n",
              "Adventure Works Laptop15.4W M1548 Black             1089\n",
              "Fabrikam Trendsetter 2/3'' 17mm X100 Grey           1087\n",
              "Adventure Works Laptop15.4W M1548 Red               1047\n",
              "Fabrikam Trendsetter 2/3'' 17mm X100 Black           926\n",
              "Fabrikam Trendsetter 1/3'' 8.5mm X200 Black          884\n",
              "Fabrikam Trendsetter 1/3'' 8.5mm X200 Grey           845\n",
              "Fabrikam Trendsetter 1/3'' 8.5mm X200 White          789\n",
              "Name: Quantidade, dtype: int64"
            ]
          },
          "metadata": {},
          "execution_count": 58
        }
      ]
    },
    {
      "cell_type": "code",
      "metadata": {
        "colab": {
          "base_uri": "https://localhost:8080/",
          "height": 376
        },
        "id": "slDSl65ZY0st",
        "outputId": "c4432dc8-7ddc-4931-f0bd-4612d3f227a6"
      },
      "source": [
        "df.groupby('Produto')['Quantidade'].sum().sort_values(ascending=False).plot.barh(title='Total Produtos Vendidos')\n",
        "plt.xlabel('Total')\n",
        "plt.ylabel('Produto');"
      ],
      "execution_count": 59,
      "outputs": [
        {
          "output_type": "display_data",
          "data": {
            "image/png": "[encoded data removed]",
            "text/plain": [
              "<Figure size 576x396 with 1 Axes>"
            ]
          },
          "metadata": {}
        }
      ]
    },
    {
      "cell_type": "code",
      "metadata": {
        "colab": {
          "base_uri": "https://localhost:8080/",
          "height": 388
        },
        "id": "-SKfPaeuZFSV",
        "outputId": "08119082-2b6f-4859-e094-31a964a97e4e"
      },
      "source": [
        "df.groupby(df['Data Venda'].dt.year)['Lucro'].sum().plot.bar(title='Lucro x Ano')\n",
        "plt.xlabel('Ano')\n",
        "plt.ylabel('Receita');"
      ],
      "execution_count": 60,
      "outputs": [
        {
          "output_type": "display_data",
          "data": {
            "image/png": "[encoded data removed]",
            "text/plain": [
              "<Figure size 576x396 with 1 Axes>"
            ]
          },
          "metadata": {}
        }
      ]
    },
    {
      "cell_type": "code",
      "metadata": {
        "colab": {
          "base_uri": "https://localhost:8080/"
        },
        "id": "o4yp0lmpZuQF",
        "outputId": "c5caebad-7824-477b-be33-5597b1ee187e"
      },
      "source": [
        "df.groupby(df['Data Venda'].dt.year)['Lucro'].sum()"
      ],
      "execution_count": 61,
      "outputs": [
        {
          "output_type": "execute_result",
          "data": {
            "text/plain": [
              "Data Venda\n",
              "2008           1,920,077.71\n",
              "2009           1,577,745.38\n",
              "Name: Lucro, dtype: float64"
            ]
          },
          "metadata": {},
          "execution_count": 61
        }
      ]
    },
    {
      "cell_type": "code",
      "metadata": {
        "id": "3Qkr75YlZmKb"
      },
      "source": [
        "df_2009 = df[df['Data Envio'].dt.year == 2009]"
      ],
      "execution_count": 62,
      "outputs": []
    },
    {
      "cell_type": "code",
      "metadata": {
        "colab": {
          "base_uri": "https://localhost:8080/",
          "height": 376
        },
        "id": "1Gwz8_SJZ_lj",
        "outputId": "8900012f-a44e-4c12-8662-287d9844e408"
      },
      "source": [
        "df_2009.groupby(df_2009['Data Venda'].dt.month)['Lucro'].sum().plot(title='Lucro x Mes')\n",
        "plt.xlabel('Mes')\n",
        "plt.ylabel('Lucro');"
      ],
      "execution_count": 63,
      "outputs": [
        {
          "output_type": "display_data",
          "data": {
            "image/png": "[encoded data removed]",
            "text/plain": [
              "<Figure size 576x396 with 1 Axes>"
            ]
          },
          "metadata": {}
        }
      ]
    },
    {
      "cell_type": "code",
      "metadata": {
        "colab": {
          "base_uri": "https://localhost:8080/",
          "height": 376
        },
        "id": "NW02xjSJacK1",
        "outputId": "dc94ce34-41af-4fc2-e808-6e110bfdf337"
      },
      "source": [
        "df_2009.groupby('Marca')['Lucro'].sum().plot.bar(title='Lucro x Marca')\n",
        "plt.xlabel('Marca')\n",
        "plt.ylabel('Lucro')\n",
        "plt.xticks(rotation='horizontal');"
      ],
      "execution_count": 64,
      "outputs": [
        {
          "output_type": "display_data",
          "data": {
            "image/png": "[encoded data removed]",
            "text/plain": [
              "<Figure size 576x396 with 1 Axes>"
            ]
          },
          "metadata": {}
        }
      ]
    },
    {
      "cell_type": "code",
      "metadata": {
        "colab": {
          "base_uri": "https://localhost:8080/",
          "height": 376
        },
        "id": "MX9h5evQatxN",
        "outputId": "41a16d27-e44b-4c59-951a-41706f7da83b"
      },
      "source": [
        "df_2009.groupby('Classe')['Lucro'].sum().plot.bar(title='Lucro x Classe')\n",
        "plt.xlabel('Classe')\n",
        "plt.ylabel('Lucro')\n",
        "plt.xticks(rotation='horizontal');"
      ],
      "execution_count": 65,
      "outputs": [
        {
          "output_type": "display_data",
          "data": {
            "image/png": "[encoded data removed]",
            "text/plain": [
              "<Figure size 576x396 with 1 Axes>"
            ]
          },
          "metadata": {}
        }
      ]
    },
    {
      "cell_type": "code",
      "metadata": {
        "colab": {
          "base_uri": "https://localhost:8080/"
        },
        "id": "o2_CuqDIbG2l",
        "outputId": "bd7ac536-afb5-4ea7-c0e9-0c3181f658d5"
      },
      "source": [
        "df['Tempo_envio'].describe()"
      ],
      "execution_count": 66,
      "outputs": [
        {
          "output_type": "execute_result",
          "data": {
            "text/plain": [
              "count                 904.00\n",
              "mean                    8.54\n",
              "std                     3.06\n",
              "min                     4.00\n",
              "25%                     6.00\n",
              "50%                     9.00\n",
              "75%                    11.00\n",
              "max                    20.00\n",
              "Name: Tempo_envio, dtype: float64"
            ]
          },
          "metadata": {},
          "execution_count": 66
        }
      ]
    },
    {
      "cell_type": "code",
      "metadata": {
        "colab": {
          "base_uri": "https://localhost:8080/",
          "height": 347
        },
        "id": "cAEJZnQBbVXl",
        "outputId": "f28c6280-d743-4dcf-8be5-57a34be33877"
      },
      "source": [
        "plt.boxplot(df['Tempo_envio']);"
      ],
      "execution_count": 67,
      "outputs": [
        {
          "output_type": "display_data",
          "data": {
            "image/png": "[encoded data removed]",
            "text/plain": [
              "<Figure size 576x396 with 1 Axes>"
            ]
          },
          "metadata": {}
        }
      ]
    },
    {
      "cell_type": "code",
      "metadata": {
        "colab": {
          "base_uri": "https://localhost:8080/",
          "height": 347
        },
        "id": "ZA81tqqHbipl",
        "outputId": "a81d51c5-43a6-499f-fb3f-ed65a712c900"
      },
      "source": [
        "plt.hist(df['Tempo_envio']);"
      ],
      "execution_count": 68,
      "outputs": [
        {
          "output_type": "display_data",
          "data": {
            "image/png": "[encoded data removed]",
            "text/plain": [
              "<Figure size 576x396 with 1 Axes>"
            ]
          },
          "metadata": {}
        }
      ]
    },
    {
      "cell_type": "code",
      "metadata": {
        "colab": {
          "base_uri": "https://localhost:8080/"
        },
        "id": "LjUqyQ35bnDO",
        "outputId": "83317203-7a9f-475e-9443-c15277a3fc7e"
      },
      "source": [
        "df['Tempo_envio'].min()"
      ],
      "execution_count": 69,
      "outputs": [
        {
          "output_type": "execute_result",
          "data": {
            "text/plain": [
              "4"
            ]
          },
          "metadata": {},
          "execution_count": 69
        }
      ]
    },
    {
      "cell_type": "code",
      "metadata": {
        "colab": {
          "base_uri": "https://localhost:8080/"
        },
        "id": "CR33YrKHcHk9",
        "outputId": "b21cf7c4-9309-421d-f608-5d2a55e210c6"
      },
      "source": [
        "df['Tempo_envio'].max()"
      ],
      "execution_count": 70,
      "outputs": [
        {
          "output_type": "execute_result",
          "data": {
            "text/plain": [
              "20"
            ]
          },
          "metadata": {},
          "execution_count": 70
        }
      ]
    },
    {
      "cell_type": "code",
      "metadata": {
        "colab": {
          "base_uri": "https://localhost:8080/"
        },
        "id": "QONGdS9ncMQ8",
        "outputId": "38ef307d-9558-4786-c8e6-5b922d96b9a7"
      },
      "source": [
        "# Tupla correspondente ao tempo de envio maximo\n",
        "df[df['Tempo_envio'] == df['Tempo_envio'].max()]['Produto']"
      ],
      "execution_count": 71,
      "outputs": [
        {
          "output_type": "execute_result",
          "data": {
            "text/plain": [
              "0    Adventure Works Laptop15.4W M1548 Red\n",
              "Name: Produto, dtype: object"
            ]
          },
          "metadata": {},
          "execution_count": 71
        }
      ]
    },
    {
      "cell_type": "code",
      "metadata": {
        "id": "Eaekqcv-cgL2"
      },
      "source": [
        "#df.to_csv('df_analise.csv', index=False)"
      ],
      "execution_count": 72,
      "outputs": []
    }
  ]
}